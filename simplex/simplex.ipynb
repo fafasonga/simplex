{
 "cells": [
  {
   "cell_type": "code",
   "execution_count": 7,
   "metadata": {
    "collapsed": true
   },
   "outputs": [],
   "source": [
    "from cvxopt import matrix, solvers\n",
    "import numpy as np\n",
    "from numpy.linalg import inv"
   ]
  },
  {
   "cell_type": "code",
   "execution_count": 34,
   "metadata": {
    "collapsed": true
   },
   "outputs": [],
   "source": [
    "A_test = matrix([ [-1.0, 0.0, 0.0],[0.0, -1.0, 0.0], [0.0, 0.0, -1.0],[1.0, 0.0, 0.0],[0.0, 1.0, 0.0], [0.0, 0.0, 1.0], [1.0, 1.0, 1.0]])\n",
    "b_test = matrix([ 0.0, 0.0, 0.0, 2.0, 2.0, 2.0, 5.0 ])\n",
    "c_test = matrix([ 1.0, 1.0, -1.0 ])"
   ]
  },
  {
   "cell_type": "code",
   "execution_count": 35,
   "metadata": {},
   "outputs": [
    {
     "name": "stdout",
     "output_type": "stream",
     "text": [
      "     pcost       dcost       gap    pres   dres   k/t\n",
      " 0:  1.4000e+00 -1.6200e+01  1e+01  0e+00  2e+00  1e+00\n",
      " 1:  3.1572e-01 -3.2626e+00  2e+00  1e-16  3e-01  2e-01\n",
      " 2: -1.8542e+00 -2.9102e+00  9e-01  3e-16  1e-01  1e-01\n",
      " 3: -1.9983e+00 -2.0098e+00  9e-03  2e-16  1e-03  1e-03\n",
      " 4: -2.0000e+00 -2.0001e+00  9e-05  3e-16  1e-05  1e-05\n",
      " 5: -2.0000e+00 -2.0000e+00  9e-07  3e-16  1e-07  1e-07\n",
      " 6: -2.0000e+00 -2.0000e+00  9e-09  1e-16  1e-09  1e-09\n",
      "Optimal solution found.\n"
     ]
    }
   ],
   "source": [
    "sol=solvers.lp(c_test,A_test.T,b_test)"
   ]
  },
  {
   "cell_type": "code",
   "execution_count": 36,
   "metadata": {},
   "outputs": [
    {
     "name": "stdout",
     "output_type": "stream",
     "text": [
      "[ 1.95e-10]\n",
      "[ 1.95e-10]\n",
      "[ 2.00e+00]\n",
      "\n"
     ]
    }
   ],
   "source": [
    "print(sol['x'])"
   ]
  },
  {
   "cell_type": "code",
   "execution_count": 37,
   "metadata": {},
   "outputs": [
    {
     "name": "stdout",
     "output_type": "stream",
     "text": [
      "-1.99999999829\n"
     ]
    }
   ],
   "source": [
    "print (sol['primal objective'])"
   ]
  },
  {
   "cell_type": "code",
   "execution_count": 38,
   "metadata": {},
   "outputs": [
    {
     "name": "stdout",
     "output_type": "stream",
     "text": [
      "optimal\n"
     ]
    }
   ],
   "source": [
    "print (sol['status'])"
   ]
  },
  {
   "cell_type": "code",
   "execution_count": 43,
   "metadata": {
    "collapsed": true
   },
   "outputs": [],
   "source": [
    "A = np.array(A_test).T\n",
    "b = np.array(b_test)\n",
    "c = np.array(c_test)"
   ]
  },
  {
   "cell_type": "code",
   "execution_count": 44,
   "metadata": {
    "collapsed": true
   },
   "outputs": [],
   "source": [
    "x_o = np.array([2,2,0]).reshape(3,1)"
   ]
  },
  {
   "cell_type": "code",
   "execution_count": 45,
   "metadata": {},
   "outputs": [],
   "source": [
    "from numpy.linalg import inv\n",
    "\n",
    "def simplex_opt(c,A,b,x_o):\n",
    "    n = x_o.size\n",
    "    m = b.size\n",
    "    J = calculate_J(A,b,x_o)\n",
    "    z = np.zeros((m,1))\n",
    "    z[J] = calculate_z(A,J,c)\n",
    "    while (z<0).any():\n",
    "        k = np.argmin(z)\n",
    "        dx = calculate_dx(A,J,k,m)\n",
    "        alpha = recalculate_J(A,b,x_o,J,k,dx)\n",
    "        x_o = x_o + alpha*dx\n",
    "        J = calculate_J(A,b,x_o)\n",
    "        z = np.zeros((m,1))\n",
    "        z[J] = calculate_z(A,J,c)\n",
    "    print('Optimal point is \\n{}'.format(x_o))\n",
    "\n",
    "    \n",
    "def calculate_J(A,b,x_o):\n",
    "    return np.where((A.dot(x_o)-b==0))[0]\n",
    "\n",
    "def calculate_z(A,J,c):\n",
    "    z = -inv(A[J].dot(A[J].T)).dot(A[J]).dot(c)\n",
    "    #print(z)\n",
    "    return z\n",
    "\n",
    "def calculate_dx(A,J,k,m):\n",
    "    j = np.zeros((m,1))\n",
    "    j[k] = -1\n",
    "    dx = inv(A[J]).dot(j[J])\n",
    "    return dx\n",
    "\n",
    "def recalculate_J(A,b,x,J,k,dx):\n",
    "    i = np.where(A.dot(dx) > 0)[0]\n",
    "    j = np.argmin(((b[i]-A[i].dot(x))/(A[i].dot(dx))))\n",
    "    j = i[j]\n",
    "    alpha = (b[j]-A[j].T.dot(x))/A[j].T.dot(dx)\n",
    "    return alpha\n",
    "\n",
    "def calculate_c(c,x):\n",
    "    c_in = c.reshape(c.size,1)\n",
    "    x_in = x.reshape(x.size,1)\n",
    "    return c_in.T.dot(x_in)"
   ]
  },
  {
   "cell_type": "code",
   "execution_count": 47,
   "metadata": {},
   "outputs": [
    {
     "name": "stdout",
     "output_type": "stream",
     "text": [
      "Optimal point is \n",
      "[[ 0.]\n",
      " [ 0.]\n",
      " [ 2.]]\n"
     ]
    }
   ],
   "source": [
    "solution = simplex_opt(c, A, b, x_o)"
   ]
  },
  {
   "cell_type": "code",
   "execution_count": 49,
   "metadata": {},
   "outputs": [
    {
     "name": "stdout",
     "output_type": "stream",
     "text": [
      "None\n"
     ]
    }
   ],
   "source": [
    "print(solution)"
   ]
  },
  {
   "cell_type": "code",
   "execution_count": null,
   "metadata": {
    "collapsed": true
   },
   "outputs": [],
   "source": []
  }
 ],
 "metadata": {
  "kernelspec": {
   "display_name": "Python 2",
   "language": "python",
   "name": "python2"
  },
  "language_info": {
   "codemirror_mode": {
    "name": "ipython",
    "version": 2
   },
   "file_extension": ".py",
   "mimetype": "text/x-python",
   "name": "python",
   "nbconvert_exporter": "python",
   "pygments_lexer": "ipython2",
   "version": "2.7.13"
  }
 },
 "nbformat": 4,
 "nbformat_minor": 2
}
