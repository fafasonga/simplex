{
 "cells": [
  {
   "cell_type": "code",
   "execution_count": 58,
   "metadata": {
    "collapsed": true
   },
   "outputs": [],
   "source": [
    "from cvxopt import matrix, solvers\n",
    "import numpy as np\n",
    "from numpy.linalg import inv\n",
    "import math\n",
    "from matplotlib import pyplot as plt\n",
    "from mpl_toolkits.mplot3d import Axes3D\n",
    "import nestle"
   ]
  },
  {
   "cell_type": "code",
   "execution_count": 67,
   "metadata": {
    "collapsed": true
   },
   "outputs": [],
   "source": [
    "A_test = matrix([ [-1.0, 0.0, 0.0],[0.0, -1.0, 0.0], [0.0, 0.0, -1.0],[1.0, 0.0, 0.0],[0.0, 1.0, 0.0], [0.0, 0.0, 1.0], [1.0, 1.0, 1.0]])\n",
    "b_test = matrix([ 0.0, 0.0, 0.0, 2.0, 2.0, 2.0, 5.0 ])\n",
    "c_test = matrix([ 1.0, 1.0, -1.0 ])"
   ]
  },
  {
   "cell_type": "code",
   "execution_count": 70,
   "metadata": {},
   "outputs": [
    {
     "name": "stdout",
     "output_type": "stream",
     "text": [
      "     pcost       dcost       gap    pres   dres   k/t\n",
      " 0:  1.4000e+00 -1.6200e+01  1e+01  0e+00  2e+00  1e+00\n",
      " 1:  3.1572e-01 -3.2626e+00  2e+00  1e-16  3e-01  2e-01\n",
      " 2: -1.8542e+00 -2.9102e+00  9e-01  3e-16  1e-01  1e-01\n",
      " 3: -1.9983e+00 -2.0098e+00  9e-03  2e-16  1e-03  1e-03\n",
      " 4: -2.0000e+00 -2.0001e+00  9e-05  2e-16  1e-05  1e-05\n",
      " 5: -2.0000e+00 -2.0000e+00  9e-07  5e-16  1e-07  1e-07\n",
      " 6: -2.0000e+00 -2.0000e+00  9e-09  2e-16  1e-09  1e-09\n",
      "Optimal solution found.\n"
     ]
    }
   ],
   "source": [
    "sol=solvers.lp(c_test,A_test.T,b_test)"
   ]
  },
  {
   "cell_type": "code",
   "execution_count": 68,
   "metadata": {},
   "outputs": [
    {
     "name": "stdout",
     "output_type": "stream",
     "text": [
      "[ 1.95e-10]\n",
      "[ 1.95e-10]\n",
      "[ 2.00e+00]\n",
      "\n"
     ]
    }
   ],
   "source": [
    "print(sol['x'])"
   ]
  },
  {
   "cell_type": "code",
   "execution_count": 72,
   "metadata": {},
   "outputs": [
    {
     "name": "stdout",
     "output_type": "stream",
     "text": [
      "-1.99999999829\n"
     ]
    }
   ],
   "source": [
    "print (sol['primal objective'])"
   ]
  },
  {
   "cell_type": "code",
   "execution_count": 73,
   "metadata": {},
   "outputs": [
    {
     "name": "stdout",
     "output_type": "stream",
     "text": [
      "optimal\n"
     ]
    }
   ],
   "source": [
    "print (sol['status'])"
   ]
  },
  {
   "cell_type": "code",
   "execution_count": 74,
   "metadata": {
    "collapsed": true
   },
   "outputs": [],
   "source": [
    "A = np.array(A_test).T\n",
    "b = np.array(b_test)\n",
    "c = np.array(c_test)"
   ]
  },
  {
   "cell_type": "code",
   "execution_count": 75,
   "metadata": {
    "collapsed": true
   },
   "outputs": [],
   "source": [
    "x_o = np.array([2,2,0]).reshape(3,1)"
   ]
  },
  {
   "cell_type": "code",
   "execution_count": 76,
   "metadata": {
    "collapsed": true
   },
   "outputs": [],
   "source": [
    "from numpy.linalg import inv\n",
    "\n",
    "def simplex_opt(c,A,b,x_o):\n",
    "    n = x_o.size\n",
    "    m = b.size\n",
    "    J = calculate_J(A,b,x_o)\n",
    "    z = np.zeros((m,1))\n",
    "    z[J] = calculate_z(A,J,c)\n",
    "    while (z<0).any():\n",
    "        k = np.argmin(z)\n",
    "        dx = calculate_dx(A,J,k,m)\n",
    "        alpha = recalculate_J(A,b,x_o,J,k,dx)\n",
    "        x_o = x_o + alpha*dx\n",
    "        J = calculate_J(A,b,x_o)\n",
    "        z = np.zeros((m,1))\n",
    "        z[J] = calculate_z(A,J,c)\n",
    "        print('Optimal point is \\n{}'.format(x_o))\n",
    "    \n",
    "def calculate_J(A,b,x_o):\n",
    "    return np.where((A.dot(x_o)-b==0))[0]\n",
    "\n",
    "def calculate_z(A,J,c):\n",
    "    z = -inv(A[J].dot(A[J].T)).dot(A[J]).dot(c)\n",
    "    print z\n",
    "    return z\n",
    "\n",
    "def calculate_dx(A,J,k,m):\n",
    "    j = np.zeros((m,1))\n",
    "    j[k] = -1\n",
    "    dx = inv(A[J]).dot(j[J])\n",
    "    print dx\n",
    "    return dx\n",
    "\n",
    "def recalculate_J(A,b,x,J,k,dx):\n",
    "    i = np.where(A.dot(dx) > 0)[0]\n",
    "    j = np.argmin(((b[i]-A[i].dot(x))/(A[i].dot(dx))))\n",
    "    j = i[j]\n",
    "    alpha = (b[j]-A[j].T.dot(x))/A[j].T.dot(dx)\n",
    "    print alpha\n",
    "    return alpha\n",
    "\n",
    "def calculate_c(c,x):\n",
    "    c_in = c.reshape(c.size,1)\n",
    "    x_in = x.reshape(x.size,1)\n",
    "    return c_in.T.dot(x_in)"
   ]
  },
  {
   "cell_type": "code",
   "execution_count": 55,
   "metadata": {},
   "outputs": [
    {
     "name": "stdout",
     "output_type": "stream",
     "text": [
      "[[-1.]\n",
      " [-1.]\n",
      " [-1.]]\n",
      "[[ 0.]\n",
      " [ 0.]\n",
      " [ 1.]]\n",
      "[ 1.]\n",
      "[[-2.]\n",
      " [-2.]\n",
      " [ 1.]]\n",
      "Optimal point is \n",
      "[[ 2.]\n",
      " [ 2.]\n",
      " [ 1.]]\n",
      "[[-1.]\n",
      " [ 0.]\n",
      " [ 1.]]\n",
      "[ 1.]\n",
      "[[-0.]\n",
      " [ 2.]\n",
      " [-1.]]\n",
      "Optimal point is \n",
      "[[ 1.]\n",
      " [ 2.]\n",
      " [ 2.]]\n",
      "[[-1.]\n",
      " [ 0.]\n",
      " [ 0.]]\n",
      "[ 1.]\n",
      "[[ 1.]\n",
      " [-1.]\n",
      " [ 1.]]\n",
      "Optimal point is \n",
      "[[ 0.]\n",
      " [ 2.]\n",
      " [ 2.]]\n",
      "[[ 0.]\n",
      " [-1.]\n",
      " [ 0.]]\n",
      "[ 2.]\n",
      "[[ 1.]\n",
      " [ 1.]\n",
      " [ 1.]]\n",
      "Optimal point is \n",
      "[[ 0.]\n",
      " [ 0.]\n",
      " [ 2.]]\n"
     ]
    }
   ],
   "source": [
    "simplex_opt(c,A,b,x_o)"
   ]
  },
  {
   "cell_type": "code",
   "execution_count": null,
   "metadata": {
    "collapsed": true
   },
   "outputs": [],
   "source": []
  },
  {
   "cell_type": "code",
   "execution_count": 78,
   "metadata": {},
   "outputs": [
    {
     "ename": "TypeError",
     "evalue": "'c' must be a dense column matrix",
     "output_type": "error",
     "traceback": [
      "\u001b[0;31m---------------------------------------------------------------------------\u001b[0m",
      "\u001b[0;31mTypeError\u001b[0m                                 Traceback (most recent call last)",
      "\u001b[0;32m<ipython-input-78-547d59e257f6>\u001b[0m in \u001b[0;36m<module>\u001b[0;34m()\u001b[0m\n\u001b[1;32m      2\u001b[0m \u001b[0mG\u001b[0m \u001b[0;34m=\u001b[0m \u001b[0mMatrix\u001b[0m\u001b[0;34m(\u001b[0m\u001b[0;34m[\u001b[0m\u001b[0;34m[\u001b[0m\u001b[0;36m2.0\u001b[0m\u001b[0;34m,\u001b[0m \u001b[0;36m1.0\u001b[0m\u001b[0;34m]\u001b[0m\u001b[0;34m,\u001b[0m\u001b[0;34m[\u001b[0m\u001b[0;36m1.0\u001b[0m\u001b[0;34m,\u001b[0m \u001b[0;36m2.0\u001b[0m\u001b[0;34m]\u001b[0m\u001b[0;34m]\u001b[0m\u001b[0;34m)\u001b[0m\u001b[0;34m\u001b[0m\u001b[0m\n\u001b[1;32m      3\u001b[0m \u001b[0mh\u001b[0m \u001b[0;34m=\u001b[0m \u001b[0mMatrix\u001b[0m\u001b[0;34m(\u001b[0m\u001b[0;34m[\u001b[0m\u001b[0;34m[\u001b[0m\u001b[0;36m3.0\u001b[0m\u001b[0;34m,\u001b[0m \u001b[0;36m2.0\u001b[0m\u001b[0;34m]\u001b[0m\u001b[0;34m,\u001b[0m \u001b[0;34m[\u001b[0m\u001b[0;36m4.0\u001b[0m\u001b[0;34m,\u001b[0m \u001b[0;36m1.0\u001b[0m\u001b[0;34m]\u001b[0m\u001b[0;34m]\u001b[0m\u001b[0;34m)\u001b[0m\u001b[0;34m\u001b[0m\u001b[0m\n\u001b[0;32m----> 4\u001b[0;31m \u001b[0msolu\u001b[0m \u001b[0;34m=\u001b[0m \u001b[0msolvers\u001b[0m\u001b[0;34m.\u001b[0m\u001b[0msdp\u001b[0m\u001b[0;34m(\u001b[0m\u001b[0mc\u001b[0m\u001b[0;34m,\u001b[0m\u001b[0mG\u001b[0m\u001b[0;34m,\u001b[0m\u001b[0mh\u001b[0m\u001b[0;34m)\u001b[0m\u001b[0;34m\u001b[0m\u001b[0m\n\u001b[0m",
      "\u001b[0;32m/home/fafasonga/anaconda2/lib/python2.7/site-packages/cvxopt/coneprog.pyc\u001b[0m in \u001b[0;36msdp\u001b[0;34m(c, Gl, hl, Gs, hs, A, b, kktsolver, solver, primalstart, dualstart, options, **kwargs)\u001b[0m\n\u001b[1;32m   3836\u001b[0m \u001b[0;34m\u001b[0m\u001b[0m\n\u001b[1;32m   3837\u001b[0m     \u001b[0;32mif\u001b[0m \u001b[0;32mnot\u001b[0m \u001b[0misinstance\u001b[0m\u001b[0;34m(\u001b[0m\u001b[0mc\u001b[0m\u001b[0;34m,\u001b[0m\u001b[0mmatrix\u001b[0m\u001b[0;34m)\u001b[0m \u001b[0;32mor\u001b[0m \u001b[0mc\u001b[0m\u001b[0;34m.\u001b[0m\u001b[0mtypecode\u001b[0m \u001b[0;34m!=\u001b[0m \u001b[0;34m'd'\u001b[0m \u001b[0;32mor\u001b[0m \u001b[0mc\u001b[0m\u001b[0;34m.\u001b[0m\u001b[0msize\u001b[0m\u001b[0;34m[\u001b[0m\u001b[0;36m1\u001b[0m\u001b[0;34m]\u001b[0m \u001b[0;34m!=\u001b[0m \u001b[0;36m1\u001b[0m\u001b[0;34m:\u001b[0m\u001b[0;34m\u001b[0m\u001b[0m\n\u001b[0;32m-> 3838\u001b[0;31m         \u001b[0;32mraise\u001b[0m \u001b[0mTypeError\u001b[0m\u001b[0;34m(\u001b[0m\u001b[0;34m\"'c' must be a dense column matrix\"\u001b[0m\u001b[0;34m)\u001b[0m\u001b[0;34m\u001b[0m\u001b[0m\n\u001b[0m\u001b[1;32m   3839\u001b[0m     \u001b[0mn\u001b[0m \u001b[0;34m=\u001b[0m \u001b[0mc\u001b[0m\u001b[0;34m.\u001b[0m\u001b[0msize\u001b[0m\u001b[0;34m[\u001b[0m\u001b[0;36m0\u001b[0m\u001b[0;34m]\u001b[0m\u001b[0;34m\u001b[0m\u001b[0m\n\u001b[1;32m   3840\u001b[0m     \u001b[0;32mif\u001b[0m \u001b[0mn\u001b[0m \u001b[0;34m<\u001b[0m \u001b[0;36m1\u001b[0m\u001b[0;34m:\u001b[0m \u001b[0;32mraise\u001b[0m \u001b[0mValueError\u001b[0m\u001b[0;34m(\u001b[0m\u001b[0;34m\"number of variables must be at least 1\"\u001b[0m\u001b[0;34m)\u001b[0m\u001b[0;34m\u001b[0m\u001b[0m\n",
      "\u001b[0;31mTypeError\u001b[0m: 'c' must be a dense column matrix"
     ]
    }
   ],
   "source": [
    "c = Matrix([2.0, 1.0])\n",
    "G = Matrix([[2.0, 1.0],[1.0, 2.0]])\n",
    "h = Matrix([[3.0, 2.0], [4.0, 1.0]])\n",
    "solu = solvers.sdp(c,G,h)"
   ]
  },
  {
   "cell_type": "code",
   "execution_count": 48,
   "metadata": {},
   "outputs": [
    {
     "data": {
      "text/plain": [
       "Matrix([\n",
       "[x1, x3],\n",
       "[x3, x2]])"
      ]
     },
     "execution_count": 48,
     "metadata": {},
     "output_type": "execute_result"
    }
   ],
   "source": [
    "variables = symbols('x1 x2 x3') \n",
    "x1, x2, x3 = variables \n",
    "results = Matrix([[x1, x3], [x3, x2]])\n",
    "results"
   ]
  },
  {
   "cell_type": "code",
   "execution_count": null,
   "metadata": {},
   "outputs": [],
   "source": []
  },
  {
   "cell_type": "code",
   "execution_count": null,
   "metadata": {},
   "outputs": [],
   "source": []
  },
  {
   "cell_type": "code",
   "execution_count": null,
   "metadata": {
    "collapsed": true
   },
   "outputs": [],
   "source": []
  },
  {
   "cell_type": "code",
   "execution_count": null,
   "metadata": {
    "collapsed": true
   },
   "outputs": [],
   "source": []
  },
  {
   "cell_type": "code",
   "execution_count": 41,
   "metadata": {
    "collapsed": true
   },
   "outputs": [],
   "source": [
    "from cvxopt import matrix, solvers\n",
    "\n",
    "Q1 = matrix([[ 1.0, 4.0],[4.0, 3.0 ]])\n",
    "q2 = np.eye(2, dtype=int)\n",
    "d = matrix([1.0, 2.0]) "
   ]
  },
  {
   "cell_type": "code",
   "execution_count": null,
   "metadata": {},
   "outputs": [],
   "source": []
  },
  {
   "cell_type": "code",
   "execution_count": 84,
   "metadata": {},
   "outputs": [
    {
     "data": {
      "image/png": "[encoded data removed]",
      "text/plain": [
       "<matplotlib.figure.Figure at 0x7f08ed0e8d50>"
      ]
     },
     "metadata": {},
     "output_type": "display_data"
    }
   ],
   "source": [
    "from mpl_toolkits.mplot3d import Axes3D\n",
    "import matplotlib.pyplot as plt\n",
    "from matplotlib import cm\n",
    "from matplotlib.ticker import LinearLocator, FormatStrFormatter\n",
    "import numpy as np\n",
    "\n",
    "fig = plt.figure()\n",
    "ax = fig.gca(projection='3d')\n",
    "\n",
    "X = np.arange(0, 1, 0.0025)\n",
    "Y = np.arange(0, 1, 0.0025)\n",
    "\n",
    "X, Y = np.meshgrid(X, Y)\n",
    "R = X + Y\n",
    "Z1 = np.sqrt(X*Y)\n",
    "Z2 = -np.sqrt(X*Y)\n",
    "surf1 = ax.plot_surface(X, Y, Z1, cmap=cm.coolwarm,linewidth=0, antialiased=False)\n",
    "surf2 = ax.plot_surface(X, Y, Z2, cmap=cm.coolwarm,linewidth=0, antialiased=False)\n",
    "\n",
    "ax.set_zlim(-1.01, 1.01)\n",
    "ax.zaxis.set_major_locator(LinearLocator(10))\n",
    "ax.zaxis.set_major_formatter(FormatStrFormatter('%.02f'))\n",
    "\n",
    "fig.colorbar(surf, shrink=0.5, aspect=5)\n",
    "\n",
    "plt.show()"
   ]
  },
  {
   "cell_type": "code",
   "execution_count": null,
   "metadata": {
    "collapsed": true
   },
   "outputs": [],
   "source": [
    "from mpl_toolkits.mplot3d import Axes3D\n",
    "import matplotlib.pyplot as plt\n",
    "from matplotlib import cm\n",
    "from matplotlib.ticker import LinearLocator, FormatStrFormatter\n",
    "import numpy as np\n",
    "\n",
    "fig = plt.figure()\n",
    "ax = fig.gca(projection='3d')\n",
    "\n",
    "X = np.arange(0, 1, 0.0025)*\n",
    "Y = np.arange(0, 1, 0.0025)\n",
    "\n",
    "X, Y = np.meshgrid(X, Y)\n",
    "R = X + Y\n",
    "Z1 = np.sqrt(X*Y)\n",
    "Z2 = -np.sqrt(X*Y)\n",
    "surf1 = ax.plot_surface(X, Y, Z1, cmap=cm.coolwarm,linewidth=0, antialiased=False)\n",
    "surf2 = ax.plot_surface(X, Y, Z2, cmap=cm.coolwarm,linewidth=0, antialiased=False)\n",
    "\n",
    "ax.set_zlim(-1.01, 1.01)\n",
    "ax.zaxis.set_major_locator(LinearLocator(10))\n",
    "ax.zaxis.set_major_formatter(FormatStrFormatter('%.02f'))\n",
    "\n",
    "fig.colorbar(surf, shrink=0.5, aspect=5)\n",
    "\n",
    "plt.show()"
   ]
  },
  {
   "cell_type": "code",
   "execution_count": 86,
   "metadata": {},
   "outputs": [
    {
     "ename": "ValueError",
     "evalue": "operands could not be broadcast together with shapes (400,) (2,2) ",
     "output_type": "error",
     "traceback": [
      "\u001b[0;31m---------------------------------------------------------------------------\u001b[0m",
      "\u001b[0;31mValueError\u001b[0m                                Traceback (most recent call last)",
      "\u001b[0;32m<ipython-input-86-10c665d778c8>\u001b[0m in \u001b[0;36m<module>\u001b[0;34m()\u001b[0m\n\u001b[0;32m----> 1\u001b[0;31m \u001b[0mX\u001b[0m \u001b[0;34m=\u001b[0m \u001b[0mnp\u001b[0m\u001b[0;34m.\u001b[0m\u001b[0marange\u001b[0m\u001b[0;34m(\u001b[0m\u001b[0;36m0\u001b[0m\u001b[0;34m,\u001b[0m \u001b[0;36m1\u001b[0m\u001b[0;34m,\u001b[0m \u001b[0;36m0.0025\u001b[0m\u001b[0;34m)\u001b[0m\u001b[0;34m*\u001b[0m\u001b[0mnp\u001b[0m\u001b[0;34m.\u001b[0m\u001b[0marray\u001b[0m\u001b[0;34m(\u001b[0m\u001b[0mnp\u001b[0m\u001b[0;34m.\u001b[0m\u001b[0midentity\u001b[0m\u001b[0;34m(\u001b[0m\u001b[0;36m2\u001b[0m\u001b[0;34m)\u001b[0m\u001b[0;34m)\u001b[0m\u001b[0;34m\u001b[0m\u001b[0m\n\u001b[0m",
      "\u001b[0;31mValueError\u001b[0m: operands could not be broadcast together with shapes (400,) (2,2) "
     ]
    }
   ],
   "source": [
    "X = np.arange(0, 1, 0.0025)*np.array(np.identity(2))"
   ]
  },
  {
   "cell_type": "code",
   "execution_count": null,
   "metadata": {
    "collapsed": true
   },
   "outputs": [],
   "source": []
  },
  {
   "cell_type": "code",
   "execution_count": null,
   "metadata": {
    "collapsed": true
   },
   "outputs": [],
   "source": []
  },
  {
   "cell_type": "code",
   "execution_count": null,
   "metadata": {
    "collapsed": true
   },
   "outputs": [],
   "source": []
  }
 ],
 "metadata": {
  "kernelspec": {
   "display_name": "Python 2",
   "language": "python",
   "name": "python2"
  },
  "language_info": {
   "codemirror_mode": {
    "name": "ipython",
    "version": 2
   },
   "file_extension": ".py",
   "mimetype": "text/x-python",
   "name": "python",
   "nbconvert_exporter": "python",
   "pygments_lexer": "ipython2",
   "version": "2.7.13"
  }
 },
 "nbformat": 4,
 "nbformat_minor": 2
}
