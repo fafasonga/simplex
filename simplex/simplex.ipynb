{
 "cells": [
  {
   "cell_type": "code",
   "execution_count": 2,
   "metadata": {},
   "outputs": [],
   "source": [
    "from cvxopt import matrix, solvers\n"
   ]
  },
  {
   "cell_type": "code",
   "execution_count": 6,
   "metadata": {
    "collapsed": true
   },
   "outputs": [],
   "source": [
    "A = matrix([ [-1.0, 0.0, 0.0],[0.0, -1.0, 0.0], [0.0, 0.0, -1.0],[1.0, 0.0, 0.0],[0.0, 1.0, 0.0], [0.0, 0.0, 1.0], [1.0, 1.0, 1.0]])\n",
    "b = matrix([ 0.0, 0.0, 0.0, 2.0, 2.0, 2.0, 5.0 ])\n",
    "c = matrix([ 1.0, 1.0, -1.0 ])"
   ]
  },
  {
   "cell_type": "code",
   "execution_count": 8,
   "metadata": {},
   "outputs": [
    {
     "name": "stdout",
     "output_type": "stream",
     "text": [
      "     pcost       dcost       gap    pres   dres   k/t\n",
      " 0:  1.4000e+00 -1.6200e+01  1e+01  0e+00  2e+00  1e+00\n",
      " 1:  3.1572e-01 -3.2626e+00  2e+00  1e-16  3e-01  2e-01\n",
      " 2: -1.8542e+00 -2.9102e+00  9e-01  3e-16  1e-01  1e-01\n",
      " 3: -1.9983e+00 -2.0098e+00  9e-03  2e-16  1e-03  1e-03\n",
      " 4: -2.0000e+00 -2.0001e+00  9e-05  3e-16  1e-05  1e-05\n",
      " 5: -2.0000e+00 -2.0000e+00  9e-07  3e-16  1e-07  1e-07\n",
      " 6: -2.0000e+00 -2.0000e+00  9e-09  1e-16  1e-09  1e-09\n",
      "Optimal solution found.\n"
     ]
    }
   ],
   "source": [
    "sol=solvers.lp(c,A.T,b)"
   ]
  },
  {
   "cell_type": "code",
   "execution_count": 11,
   "metadata": {},
   "outputs": [
    {
     "name": "stdout",
     "output_type": "stream",
     "text": [
      "[ 1.95e-10]\n",
      "[ 1.95e-10]\n",
      "[ 2.00e+00]\n",
      "\n"
     ]
    }
   ],
   "source": [
    "print(sol['x'])"
   ]
  },
  {
   "cell_type": "code",
   "execution_count": 13,
   "metadata": {},
   "outputs": [
    {
     "name": "stdout",
     "output_type": "stream",
     "text": [
      "-1.99999999829\n"
     ]
    }
   ],
   "source": [
    "print (sol['primal objective'])"
   ]
  },
  {
   "cell_type": "code",
   "execution_count": null,
   "metadata": {
    "collapsed": true
   },
   "outputs": [],
   "source": []
  }
 ],
 "metadata": {
  "kernelspec": {
   "display_name": "Python 2",
   "language": "python",
   "name": "python2"
  },
  "language_info": {
   "codemirror_mode": {
    "name": "ipython",
    "version": 2
   },
   "file_extension": ".py",
   "mimetype": "text/x-python",
   "name": "python",
   "nbconvert_exporter": "python",
   "pygments_lexer": "ipython2",
   "version": "2.7.13"
  }
 },
 "nbformat": 4,
 "nbformat_minor": 2
}
